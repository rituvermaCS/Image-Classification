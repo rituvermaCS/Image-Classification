{
  "nbformat": 4,
  "nbformat_minor": 0,
  "metadata": {
    "colab": {
      "name": "image_classifier.ipynb",
      "provenance": []
    },
    "kernelspec": {
      "name": "python3",
      "display_name": "Python 3"
    },
    "language_info": {
      "name": "python"
    }
  },
  "cells": [
    {
      "cell_type": "code",
      "metadata": {
        "id": "x-o1FRlK_5YO"
      },
      "source": [
        "import cv2 as cv\n",
        "import numpy as np\n",
        "import matplotlib.pyplot as plt"
      ],
      "execution_count": null,
      "outputs": []
    },
    {
      "cell_type": "code",
      "metadata": {
        "id": "eTSQIMohAUFF"
      },
      "source": [
        "from tensorflow.keras import datasets, layers , models, Sequential"
      ],
      "execution_count": null,
      "outputs": []
    },
    {
      "cell_type": "code",
      "metadata": {
        "colab": {
          "base_uri": "https://localhost:8080/"
        },
        "id": "dxGMuYouAlTg",
        "outputId": "f0997e6e-731a-4fa5-82bc-c6ad69175fb0"
      },
      "source": [
        "(training_images, training_labels), (testing_images, testing_labels) = datasets.cifar10.load_data()\n",
        "training_images, testing_images = training_images/255, testing_images/255\n",
        "\n",
        "class_names = ['Plane', 'Car','Bird','Cat','Deer','Dog','Frog','Horse','Ship','Truck']"
      ],
      "execution_count": null,
      "outputs": [
        {
          "output_type": "stream",
          "text": [
            "Downloading data from https://www.cs.toronto.edu/~kriz/cifar-10-python.tar.gz\n",
            "170500096/170498071 [==============================] - 3s 0us/step\n"
          ],
          "name": "stdout"
        }
      ]
    },
    {
      "cell_type": "code",
      "metadata": {
        "colab": {
          "base_uri": "https://localhost:8080/",
          "height": 262
        },
        "id": "RvrYvOa-Aldt",
        "outputId": "44071cdd-eb36-4d22-ef52-3c08cd58ee24"
      },
      "source": [
        "for i in range(16):\n",
        "    plt.subplot(4,4,i+1)\n",
        "    plt.xticks([])\n",
        "    plt.yticks([])\n",
        "    #plt.imshow(training_images[i],cmap=plt.co.binary)\n",
        "    plt.xlabel(class_names[training_labels[i][0]])\n",
        "    \n",
        "plt.show()    "
      ],
      "execution_count": null,
      "outputs": [
        {
          "output_type": "display_data",
          "data": {
            "image/png": "[encoded data removed]",
            "text/plain": [
              "<Figure size 432x288 with 16 Axes>"
            ]
          },
          "metadata": {
            "tags": []
          }
        }
      ]
    },
    {
      "cell_type": "code",
      "metadata": {
        "id": "uxiv7wUqAlu6"
      },
      "source": [
        "training_images = training_images[:20000]\n",
        "training_labels = training_labels[:20000]\n",
        "testing_images = testing_images[:4000]\n",
        "testing_labels = testing_labels[:4000]"
      ],
      "execution_count": null,
      "outputs": []
    },
    {
      "cell_type": "code",
      "metadata": {
        "id": "sjYM9SAsAl8F"
      },
      "source": [
        "model = models.Sequential()\n",
        "model.add(layers.Conv2D(32,(3,3), activation='relu', input_shape=(32,32,3)))\n",
        "model.add(layers.MaxPooling2D(2,2))\n",
        "model.add(layers.Conv2D(64,(3,3),activation='relu'))\n",
        "model.add(layers.MaxPooling2D(2,2))\n",
        "model.add(layers.Conv2D(64,(3,3),activation='relu'))\n",
        "model.add(layers.Flatten())\n",
        "model.add(layers.Dense(64,activation='relu'))\n",
        "model.add(layers.Dense(10,activation='softmax'))"
      ],
      "execution_count": null,
      "outputs": []
    },
    {
      "cell_type": "code",
      "metadata": {
        "colab": {
          "base_uri": "https://localhost:8080/"
        },
        "id": "fszCjOVcDUbb",
        "outputId": "529c6d0f-6f6e-4a44-c745-ebb4470157be"
      },
      "source": [
        "model.compile(optimizer='adam', loss='sparse_categorical_crossentropy', metrics=['accuracy'])\n",
        "\n",
        "model.fit(training_images, training_labels, epochs=10, validation_data=(testing_images,testing_labels))\n"
      ],
      "execution_count": null,
      "outputs": [
        {
          "output_type": "stream",
          "text": [
            "Epoch 1/10\n",
            "625/625 [==============================] - 27s 42ms/step - loss: 1.8079 - accuracy: 0.3280 - val_loss: 1.4901 - val_accuracy: 0.4515\n",
            "Epoch 2/10\n",
            "625/625 [==============================] - 26s 42ms/step - loss: 1.4477 - accuracy: 0.4736 - val_loss: 1.3578 - val_accuracy: 0.5113\n",
            "Epoch 3/10\n",
            "625/625 [==============================] - 26s 42ms/step - loss: 1.3083 - accuracy: 0.5311 - val_loss: 1.2733 - val_accuracy: 0.5460\n",
            "Epoch 4/10\n",
            "625/625 [==============================] - 26s 42ms/step - loss: 1.2014 - accuracy: 0.5703 - val_loss: 1.2879 - val_accuracy: 0.5385\n",
            "Epoch 5/10\n",
            "625/625 [==============================] - 26s 42ms/step - loss: 1.1144 - accuracy: 0.6048 - val_loss: 1.1931 - val_accuracy: 0.5720\n",
            "Epoch 6/10\n",
            "625/625 [==============================] - 26s 42ms/step - loss: 1.0459 - accuracy: 0.6319 - val_loss: 1.1677 - val_accuracy: 0.5875\n",
            "Epoch 7/10\n",
            "625/625 [==============================] - 26s 42ms/step - loss: 0.9655 - accuracy: 0.6579 - val_loss: 1.1555 - val_accuracy: 0.5957\n",
            "Epoch 8/10\n",
            "625/625 [==============================] - 26s 42ms/step - loss: 0.9099 - accuracy: 0.6752 - val_loss: 1.1432 - val_accuracy: 0.6072\n",
            "Epoch 9/10\n",
            "625/625 [==============================] - 26s 42ms/step - loss: 0.8503 - accuracy: 0.7004 - val_loss: 1.0852 - val_accuracy: 0.6298\n",
            "Epoch 10/10\n",
            "625/625 [==============================] - 26s 42ms/step - loss: 0.8077 - accuracy: 0.7148 - val_loss: 1.0794 - val_accuracy: 0.6327\n"
          ],
          "name": "stdout"
        },
        {
          "output_type": "execute_result",
          "data": {
            "text/plain": [
              "<tensorflow.python.keras.callbacks.History at 0x7f7e2aa29610>"
            ]
          },
          "metadata": {
            "tags": []
          },
          "execution_count": 22
        }
      ]
    },
    {
      "cell_type": "code",
      "metadata": {
        "colab": {
          "base_uri": "https://localhost:8080/"
        },
        "id": "loy5dIyrDUoI",
        "outputId": "34d7ab38-df10-4f13-88c5-0392f0835649"
      },
      "source": [
        "loss,accuracy = model.evaluate(testing_images, testing_labels)\n",
        "print(f\"Loss: {loss}\")\n",
        "print(f\"Accuracy: {accuracy}\")"
      ],
      "execution_count": null,
      "outputs": [
        {
          "output_type": "stream",
          "text": [
            "125/125 [==============================] - 1s 11ms/step - loss: 1.0794 - accuracy: 0.6327\n",
            "Loss: 1.0794248580932617\n",
            "Accuracy: 0.6327499747276306\n"
          ],
          "name": "stdout"
        }
      ]
    },
    {
      "cell_type": "code",
      "metadata": {
        "colab": {
          "base_uri": "https://localhost:8080/"
        },
        "id": "_3D8ipIxFWR7",
        "outputId": "fe4b9df8-71f5-4899-c5a6-7ae304a8731f"
      },
      "source": [
        "model.save('image_classifier.model')\n",
        "\n",
        "#model = models.load_model()"
      ],
      "execution_count": null,
      "outputs": [
        {
          "output_type": "stream",
          "text": [
            "INFO:tensorflow:Assets written to: image_classifier.model/assets\n"
          ],
          "name": "stdout"
        }
      ]
    }
  ]
}